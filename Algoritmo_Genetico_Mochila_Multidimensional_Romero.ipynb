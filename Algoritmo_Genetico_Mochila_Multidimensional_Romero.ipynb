{
  "nbformat": 4,
  "nbformat_minor": 0,
  "metadata": {
    "kernelspec": {
      "display_name": "Python 3",
      "language": "python",
      "name": "python3"
    },
    "language_info": {
      "codemirror_mode": {
        "name": "ipython",
        "version": 3
      },
      "file_extension": ".py",
      "mimetype": "text/x-python",
      "name": "python",
      "nbconvert_exporter": "python",
      "pygments_lexer": "ipython3",
      "version": "3.7.4"
    },
    "colab": {
      "name": "Algoritmo_Genetico_Mochila_Multidimensional_Romero.ipynb",
      "provenance": []
    }
  },
  "cells": [
    {
      "cell_type": "code",
      "metadata": {
        "id": "3eN1Ln-e-2kV"
      },
      "source": [
        "import numpy as np\n",
        "import random\n",
        "#Abrindo o arquivo txt\n",
        "with open('mknapcb1.txt') as arquivo:\n",
        "    conteudo = arquivo.read()\n",
        "#Tirando os espaços da string\n",
        "conteudo2 = conteudo.rstrip(' ')\n",
        "#Retorna uma lista com todas as linhas da string\n",
        "conteudo2 = conteudo2.splitlines()\n",
        "#Retirando a primeira linha\n",
        "conteudo2.pop(0)\n",
        "#Retirando a segunda linha\n",
        "conteudo2.pop(0)\n",
        "\n",
        "#Separando o vetor benefício\n",
        "benefit = []\n",
        "for i in range(15):\n",
        "    #print(conteudo2[i])\n",
        "    conteudo3 = conteudo2[i].split(' ')\n",
        "    for j in range(len(conteudo3)):\n",
        "        #print(conteudo3[j])\n",
        "        if conteudo3[j]!= '':\n",
        "            benefit.append(int(conteudo3[j]))\n",
        "\n",
        "#Separando os vetores custos\n",
        "#Bolso 1\n",
        "cost_pack1 = []\n",
        "for i in range(15,30):\n",
        "    #print(conteudo2[i])\n",
        "    conteudo3 = conteudo2[i].split(' ')\n",
        "    for j in range(len(conteudo3)):\n",
        "        #print(conteudo3[j])\n",
        "        if conteudo3[j]!= '':\n",
        "            cost_pack1.append(int(conteudo3[j]))\n",
        "\n",
        "#Bolso 2\n",
        "cost_pack2 = []\n",
        "for i in range(30,45):\n",
        "    #print(conteudo2[i])\n",
        "    conteudo3 = conteudo2[i].split(' ')\n",
        "    for j in range(len(conteudo3)):\n",
        "        #print(conteudo3[j])\n",
        "        if conteudo3[j]!= '':\n",
        "            cost_pack2.append(int(conteudo3[j]))\n",
        "\n",
        "#Bolso 3\n",
        "cost_pack3 = []\n",
        "for i in range(45,60):\n",
        "    #print(conteudo2[i])\n",
        "    conteudo3 = conteudo2[i].split(' ')\n",
        "    for j in range(len(conteudo3)):\n",
        "        #print(conteudo3[j])\n",
        "        if conteudo3[j]!= '':\n",
        "            cost_pack3.append(int(conteudo3[j]))\n",
        "\n",
        "#Bolso 4\n",
        "cost_pack4 = []\n",
        "for i in range(60,75):\n",
        "    #print(conteudo2[i])\n",
        "    conteudo3 = conteudo2[i].split(' ')\n",
        "    for j in range(len(conteudo3)):\n",
        "        #print(conteudo3[j])\n",
        "        if conteudo3[j]!= '':\n",
        "            cost_pack4.append(int(conteudo3[j]))\n",
        "\n",
        "#Bolso 5\n",
        "cost_pack5 = []\n",
        "for i in range(75,90):\n",
        "    #print(conteudo2[i])\n",
        "    conteudo3 = conteudo2[i].split(' ')\n",
        "    for j in range(len(conteudo3)):\n",
        "        #print(conteudo3[j])\n",
        "        if conteudo3[j]!= '':\n",
        "            cost_pack5.append(int(conteudo3[j]))\n",
        "\n",
        "#Separando o vetor limite\n",
        "limite = conteudo2[90].split(' ')\n",
        "#Removendo os caracteres vazios\n",
        "limite.remove('')\n",
        "limite.remove('')\n",
        "#Transformar limite em uma lista numérica\n",
        "limitnum = []\n",
        "for i in range(len(limite)):\n",
        "    limitnum.append(int(limite[i]))\n",
        "\n",
        "#Juntando todos os custos em uma só lista\n",
        "w = [cost_pack1,cost_pack2,cost_pack3,cost_pack4,cost_pack5]\n",
        "\n",
        "#Função fitness\n",
        "def f(X):\n",
        "#Calculando os lucros para as sequências aleatórias\n",
        "    for i in range(len(w)):\n",
        "        if (np.dot(X,w[i])>limitnum[i]):\n",
        "            total_profit = np.dot(X,benefit)\n",
        "            factor = 1.5\n",
        "            peso_total = np.dot(X,w[i])*factor\n",
        "            penalty = total_profit*((peso_total-limitnum[i])/limitnum[i])\n",
        "            return -(total_profit-penalty)\n",
        "    return -np.dot(X,benefit)\n",
        "\n",
        "#Cruzamento\n",
        "def cruzamento(pai,mae,prob_cross):\n",
        "    if random.random() <= prob_cross:\n",
        "        corte = random.sample(range(100),1)\n",
        "        filho_1 = pai[:corte[0]] + mae[corte[0]:]\n",
        "        filho_2 = mae[:corte[0]] + pai[corte[0]:]\n",
        "    else:\n",
        "        filho_1 = pai\n",
        "        filho_2 = mae\n",
        "    return (filho_1, filho_2)\n",
        "\n",
        "#Mutação\n",
        "def mutacao(X,prob_muta):\n",
        "    for i in range(len(X)):\n",
        "        individuo = X[i]\n",
        "        #random.randint(1,100)\n",
        "        #if random.random() <= prob_muta:\n",
        "            #cortes = random.sample(range(100),prob_muta)\n",
        "            #cortes = random.sample(range(100),100-prob_muta)\n",
        "        for j in range(len(individuo)):\n",
        "            if random.random() <= prob_muta:\n",
        "                individuo[j] = 1 - individuo[j]\n",
        "                #if individuo[j] == 0:\n",
        "                    #individuo[j] = 1\n",
        "                #else:\n",
        "                   # individuo[j] = 0\n",
        "        X[i] = individuo\n",
        "    return X\n",
        "\n",
        "#Função da roleta\n",
        "def roleta(X,profit):\n",
        "    i=0\n",
        "    soma = profit[i]/sum(profit)\n",
        "    r = random.random()\n",
        "    while soma < r:\n",
        "        i+=1\n",
        "        soma = soma + profit[i]/sum(profit)\n",
        "    return (X[i],i)\n",
        "\n",
        "'''\n",
        "def roleta(X,profit):\n",
        "    tamanho_pop = len(profit)\n",
        "    \n",
        "    #Selecionando 2 indivíduos\n",
        "    ind1 = random.randint(0,tamanho_pop-1)\n",
        "    ind2 = random.randint(0,tamanho_pop-1)\n",
        "    \n",
        "    #Vendo o lucro dos 2\n",
        "    lucro_1 = profit[ind1]\n",
        "    lucro_2 = profit[ind2]\n",
        "    \n",
        "    #Identificando o indivíduo mais poderoso\n",
        "    if lucro_1 >= lucro_2:\n",
        "        return (X[ind1],ind1)\n",
        "    else:\n",
        "        return(X[ind2],ind2)\n",
        "'''\n",
        "#Regeneração\n",
        "def regenera(muta,pop):\n",
        "    for i in range(len(muta)):\n",
        "        if f(pop[i])>f(muta[i]):\n",
        "                pop[i] = muta[i]\n",
        "    return pop\n",
        "    \n",
        "#Função com as gerações\n",
        "def geracoes(num_ger,prob_cross,prob_muta,n_pop):\n",
        "    #Gerando a população inicial e seu lucro\n",
        "    XX = []\n",
        "    lucro = []\n",
        "    for i in range(n_pop):\n",
        "        X = []\n",
        "        for j in range(100):\n",
        "            new = random.randint(a=0,b=1)\n",
        "            X.append(new)\n",
        "        XX.append(X)\n",
        "        lucro.append(f(X))\n",
        "    count = 0\n",
        "    pop_velha = XX\n",
        "    best = [min(lucro)]\n",
        "    while count < num_ger:\n",
        "        nova_pop = []\n",
        "        XXX = []\n",
        "        lucro_muda = []\n",
        "        for i in range(len(XX)):\n",
        "            XXX.append(XX[i])\n",
        "            lucro_muda.append(lucro[i])\n",
        "        #Fazendo os cruzamentos (metade da população)\n",
        "        for i in range(int(len(XX)/2)):\n",
        "            #Escolhendo aleatoriamente 2 indivíduos\n",
        "            X1,i1 = roleta(XXX,lucro_muda)\n",
        "            #print(XXX)\n",
        "            XXX.pop(i1)\n",
        "            lucro_muda.pop(i1)\n",
        "            #print(X1)\n",
        "            X2,i2 = roleta(XXX,lucro_muda)\n",
        "            XXX.pop(i2)\n",
        "            lucro_muda.pop(i2)\n",
        "            #Realizando o cruzamento\n",
        "            filho_1, filho_2 = cruzamento(X1,X2,prob_cross)\n",
        "            #Adicionando novos valores à nova população\n",
        "            nova_pop.append(filho_1)\n",
        "            nova_pop.append(filho_2)\n",
        "        \n",
        "        #Mutações nos filhos\n",
        "        muta = mutacao(nova_pop,prob_muta)\n",
        "\n",
        "        #print(len(nova_pop))\n",
        "        XX = regenera(muta,pop_velha)\n",
        "        pop_velha = XX\n",
        "        \n",
        "        #Calculando os lucros\n",
        "        lucro = []\n",
        "        for i in range(len(XX)):\n",
        "            lucro.append(f(XX[i]))\n",
        "        count = count + 1\n",
        "    #print(XX,lucro_final)\n",
        "        best.append(min(lucro))\n",
        "    return (XX, lucro, best)\n",
        "#Rodando o programa\n",
        "ng = 2000\n",
        "pc = 0.9\n",
        "pm = 0.001\n",
        "npop = 200\n",
        "XX, lucro, best = geracoes(ng,pc,pm,npop)"
      ],
      "execution_count": null,
      "outputs": []
    },
    {
      "cell_type": "code",
      "metadata": {
        "id": "9bstphh6-2kd"
      },
      "source": [
        "import matplotlib as plt"
      ],
      "execution_count": null,
      "outputs": []
    },
    {
      "cell_type": "code",
      "metadata": {
        "id": "osuVWF41-2kf",
        "outputId": "f5300953-707b-4152-ddd1-37db0ae9f31d"
      },
      "source": [
        "plt.pyplot.plot(best)\n",
        "plt.pyplot.title('Algoritmo Genético')\n",
        "plt.pyplot.xlabel('Iteração')\n",
        "plt.pyplot.ylabel('Função Objetivo')"
      ],
      "execution_count": null,
      "outputs": [
        {
          "output_type": "execute_result",
          "data": {
            "text/plain": [
              "Text(0, 0.5, 'Função Objetivo')"
            ]
          },
          "metadata": {
            "tags": []
          },
          "execution_count": 115
        },
        {
          "output_type": "display_data",
          "data": {
            "image/png": "[encoded data removed]",
            "text/plain": [
              "<Figure size 432x288 with 1 Axes>"
            ]
          },
          "metadata": {
            "tags": [],
            "needs_background": "light"
          }
        }
      ]
    },
    {
      "cell_type": "code",
      "metadata": {
        "id": "smgevMCE-2kg",
        "outputId": "1d98e5ac-5628-4cdb-a173-6ec8edbdcb3b"
      },
      "source": [
        "XX[0]"
      ],
      "execution_count": null,
      "outputs": [
        {
          "output_type": "execute_result",
          "data": {
            "text/plain": [
              "[0,\n",
              " 1,\n",
              " 0,\n",
              " 0,\n",
              " 0,\n",
              " 0,\n",
              " 1,\n",
              " 0,\n",
              " 0,\n",
              " 0,\n",
              " 0,\n",
              " 0,\n",
              " 0,\n",
              " 0,\n",
              " 0,\n",
              " 0,\n",
              " 1,\n",
              " 0,\n",
              " 0,\n",
              " 0,\n",
              " 0,\n",
              " 0,\n",
              " 0,\n",
              " 1,\n",
              " 0,\n",
              " 0,\n",
              " 1,\n",
              " 0,\n",
              " 1,\n",
              " 1,\n",
              " 0,\n",
              " 1,\n",
              " 0,\n",
              " 0,\n",
              " 0,\n",
              " 0,\n",
              " 0,\n",
              " 0,\n",
              " 0,\n",
              " 0,\n",
              " 0,\n",
              " 0,\n",
              " 0,\n",
              " 0,\n",
              " 0,\n",
              " 0,\n",
              " 0,\n",
              " 0,\n",
              " 1,\n",
              " 0,\n",
              " 0,\n",
              " 0,\n",
              " 0,\n",
              " 0,\n",
              " 0,\n",
              " 0,\n",
              " 0,\n",
              " 0,\n",
              " 0,\n",
              " 0,\n",
              " 0,\n",
              " 0,\n",
              " 1,\n",
              " 0,\n",
              " 1,\n",
              " 1,\n",
              " 1,\n",
              " 1,\n",
              " 1,\n",
              " 0,\n",
              " 1,\n",
              " 0,\n",
              " 0,\n",
              " 0,\n",
              " 0,\n",
              " 0,\n",
              " 1,\n",
              " 0,\n",
              " 1,\n",
              " 1,\n",
              " 1,\n",
              " 1,\n",
              " 0,\n",
              " 0,\n",
              " 1,\n",
              " 1,\n",
              " 0,\n",
              " 0,\n",
              " 0,\n",
              " 0,\n",
              " 0,\n",
              " 0,\n",
              " 1,\n",
              " 0,\n",
              " 1,\n",
              " 1,\n",
              " 0,\n",
              " 0,\n",
              " 1,\n",
              " 0]"
            ]
          },
          "metadata": {
            "tags": []
          },
          "execution_count": 102
        }
      ]
    },
    {
      "cell_type": "code",
      "metadata": {
        "id": "okJmSME--2kh",
        "outputId": "de3e7979-edaa-44b7-aed2-1a879127c987"
      },
      "source": [
        "!pip install geneticalgorithm"
      ],
      "execution_count": null,
      "outputs": [
        {
          "output_type": "stream",
          "text": [
            "Collecting geneticalgorithm\n",
            "  Downloading https://files.pythonhosted.org/packages/ac/d2/fb9061239eaeee5c0373844f27f43514f33201bc08aea54d65b437402966/geneticalgorithm-1.0.2-py3-none-any.whl\n",
            "Requirement already satisfied: numpy in c:\\users\\01\\anaconda3\\lib\\site-packages (from geneticalgorithm) (1.20.3)\n",
            "Collecting func-timeout (from geneticalgorithm)\n",
            "  Downloading https://files.pythonhosted.org/packages/b3/0d/bf0567477f7281d9a3926c582bfef21bff7498fc0ffd3e9de21811896a0b/func_timeout-4.3.5.tar.gz (44kB)\n",
            "Building wheels for collected packages: func-timeout\n",
            "  Building wheel for func-timeout (setup.py): started\n",
            "  Building wheel for func-timeout (setup.py): finished with status 'done'\n",
            "  Created wheel for func-timeout: filename=func_timeout-4.3.5-cp37-none-any.whl size=15082 sha256=9cfc94731e76b5c36a3b751f02606e255f2277d4b8aabb4d9e897a4431669594\n",
            "  Stored in directory: C:\\Users\\01\\AppData\\Local\\pip\\Cache\\wheels\\46\\7c\\4f\\24f1d2d5bbff92219debe7ea19af84f76ddeb90dd4ec544f26\n",
            "Successfully built func-timeout\n",
            "Installing collected packages: func-timeout, geneticalgorithm\n",
            "Successfully installed func-timeout-4.3.5 geneticalgorithm-1.0.2\n"
          ],
          "name": "stdout"
        },
        {
          "output_type": "stream",
          "text": [
            "Error processing line 7 of C:\\Users\\01\\Anaconda3\\lib\\site-packages\\pywin32.pth:\n",
            "\n",
            "  Traceback (most recent call last):\n",
            "    File \"C:\\Users\\01\\Anaconda3\\lib\\site.py\", line 168, in addpackage\n",
            "      exec(line)\n",
            "    File \"<string>\", line 1, in <module>\n",
            "  ModuleNotFoundError: No module named 'pywin32_bootstrap'\n",
            "\n",
            "Remainder of file ignored\n"
          ],
          "name": "stderr"
        }
      ]
    },
    {
      "cell_type": "code",
      "metadata": {
        "colab": {
          "base_uri": "https://localhost:8080/",
          "height": 299
        },
        "id": "kVjqapiB-2kh",
        "outputId": "a51e9e34-1356-4e68-cffa-441232b32925"
      },
      "source": [
        "import geneticalgorithm as ga"
      ],
      "execution_count": null,
      "outputs": [
        {
          "output_type": "error",
          "ename": "ModuleNotFoundError",
          "evalue": "ignored",
          "traceback": [
            "\u001b[0;31m---------------------------------------------------------------------------\u001b[0m",
            "\u001b[0;31mModuleNotFoundError\u001b[0m                       Traceback (most recent call last)",
            "\u001b[0;32m<ipython-input-1-4f969c0654b7>\u001b[0m in \u001b[0;36m<module>\u001b[0;34m()\u001b[0m\n\u001b[0;32m----> 1\u001b[0;31m \u001b[0;32mimport\u001b[0m \u001b[0mgeneticalgorithm\u001b[0m \u001b[0;32mas\u001b[0m \u001b[0mga\u001b[0m\u001b[0;34m\u001b[0m\u001b[0;34m\u001b[0m\u001b[0m\n\u001b[0m",
            "\u001b[0;31mModuleNotFoundError\u001b[0m: No module named 'geneticalgorithm'",
            "",
            "\u001b[0;31m---------------------------------------------------------------------------\u001b[0;32m\nNOTE: If your import is failing due to a missing package, you can\nmanually install dependencies using either !pip or !apt.\n\nTo view examples of installing some common dependencies, click the\n\"Open Examples\" button below.\n\u001b[0;31m---------------------------------------------------------------------------\u001b[0m\n"
          ]
        }
      ]
    },
    {
      "cell_type": "code",
      "metadata": {
        "id": "WTUL76o_-2ki",
        "outputId": "6a2fc8e4-9be6-446e-e7a0-808f7253e867"
      },
      "source": [
        "dir(ga)"
      ],
      "execution_count": null,
      "outputs": [
        {
          "output_type": "execute_result",
          "data": {
            "text/plain": [
              "['__builtins__',\n",
              " '__cached__',\n",
              " '__doc__',\n",
              " '__file__',\n",
              " '__loader__',\n",
              " '__name__',\n",
              " '__package__',\n",
              " '__path__',\n",
              " '__spec__',\n",
              " 'geneticalgorithm']"
            ]
          },
          "metadata": {
            "tags": []
          },
          "execution_count": 26
        }
      ]
    },
    {
      "cell_type": "code",
      "metadata": {
        "id": "l1P0h77Y-2ki"
      },
      "source": [
        "model = ga.geneticalgorithm(function=f,dimension=100,variable_type='bool')"
      ],
      "execution_count": null,
      "outputs": []
    },
    {
      "cell_type": "code",
      "metadata": {
        "id": "_v84ZWWR-2kj",
        "outputId": "3ce17c20-229a-43d3-b728-06d7e56bd39e"
      },
      "source": [
        "model.run()"
      ],
      "execution_count": null,
      "outputs": [
        {
          "output_type": "stream",
          "text": [
            " The best solution found:                                                                           \n",
            " [0. 1. 1. 1. 0. 0. 1. 0. 1. 0. 0. 0. 1. 0. 0. 0. 0. 0. 1. 0. 0. 0. 0. 1.\n",
            " 0. 0. 0. 1. 1. 0. 0. 1. 0. 0. 0. 1. 0. 0. 0. 0. 0. 1. 0. 1. 0. 0. 0. 0.\n",
            " 0. 1. 1. 1. 0. 0. 0. 0. 1. 0. 0. 0. 0. 1. 1. 1. 1. 1. 0. 0. 1. 0. 0. 0.\n",
            " 0. 0. 0. 1. 0. 0. 1. 0. 0. 0. 0. 0. 0. 1. 0. 0. 0. 0. 0. 1. 1. 0. 0. 0.\n",
            " 0. 0. 0. 0.]\n",
            "\n",
            " Objective function:\n",
            " -22811.0\n"
          ],
          "name": "stdout"
        },
        {
          "output_type": "display_data",
          "data": {
            "image/png": "[encoded data removed]",
            "text/plain": [
              "<Figure size 432x288 with 1 Axes>"
            ]
          },
          "metadata": {
            "tags": [],
            "needs_background": "light"
          }
        }
      ]
    },
    {
      "cell_type": "code",
      "metadata": {
        "id": "1jbS59Fg-2kj"
      },
      "source": [
        "cortes = random.sample(range(100),50)"
      ],
      "execution_count": null,
      "outputs": []
    },
    {
      "cell_type": "code",
      "metadata": {
        "id": "I3-YGO1A-2kk"
      },
      "source": [
        "lista1 = [1,2,3,4]"
      ],
      "execution_count": null,
      "outputs": []
    },
    {
      "cell_type": "code",
      "metadata": {
        "id": "JG5ygFP8-2kk",
        "outputId": "b85ef07b-3358-4ef6-f51e-61cb1573aea5"
      },
      "source": [
        "lista1.pop(2)"
      ],
      "execution_count": null,
      "outputs": [
        {
          "output_type": "execute_result",
          "data": {
            "text/plain": [
              "3"
            ]
          },
          "metadata": {
            "tags": []
          },
          "execution_count": 40
        }
      ]
    },
    {
      "cell_type": "code",
      "metadata": {
        "id": "OPOrk4rM-2kl",
        "outputId": "7c5f0708-f613-4e18-f541-1481cc4ef43f"
      },
      "source": [
        "lista1"
      ],
      "execution_count": null,
      "outputs": [
        {
          "output_type": "execute_result",
          "data": {
            "text/plain": [
              "[1, 2, 4]"
            ]
          },
          "metadata": {
            "tags": []
          },
          "execution_count": 41
        }
      ]
    },
    {
      "cell_type": "code",
      "metadata": {
        "id": "Evu99Vpa-2kl"
      },
      "source": [
        "lista2 = lista1"
      ],
      "execution_count": null,
      "outputs": []
    },
    {
      "cell_type": "code",
      "metadata": {
        "id": "a7DBqyGZ-2kl",
        "outputId": "348f6cfd-306e-4f47-89aa-fd0ce217bc4b"
      },
      "source": [
        "lista2.pop(1)"
      ],
      "execution_count": null,
      "outputs": [
        {
          "output_type": "execute_result",
          "data": {
            "text/plain": [
              "2"
            ]
          },
          "metadata": {
            "tags": []
          },
          "execution_count": 60
        }
      ]
    },
    {
      "cell_type": "code",
      "metadata": {
        "id": "YffTAiBg-2km",
        "outputId": "79d1afae-6ff4-44b8-f75d-ad16dce0defa"
      },
      "source": [
        "lista1"
      ],
      "execution_count": null,
      "outputs": [
        {
          "output_type": "execute_result",
          "data": {
            "text/plain": [
              "[1, 4]"
            ]
          },
          "metadata": {
            "tags": []
          },
          "execution_count": 61
        }
      ]
    },
    {
      "cell_type": "code",
      "metadata": {
        "id": "tvSLP14t-2km",
        "outputId": "58a8009c-e24b-4003-8ee9-bf7dc221d30c"
      },
      "source": [
        "lista2 == lista1"
      ],
      "execution_count": null,
      "outputs": [
        {
          "output_type": "execute_result",
          "data": {
            "text/plain": [
              "True"
            ]
          },
          "metadata": {
            "tags": []
          },
          "execution_count": 62
        }
      ]
    },
    {
      "cell_type": "code",
      "metadata": {
        "id": "B51qu-3J-2km"
      },
      "source": [
        "lista2 = []\n",
        "lista1 = [1,2,3,4]\n",
        "for i,j in enumerate(lista1):\n",
        "    lista2.append(j)"
      ],
      "execution_count": null,
      "outputs": []
    },
    {
      "cell_type": "code",
      "metadata": {
        "id": "n6JTz79w-2kn",
        "outputId": "6d99d116-95bf-48ab-8169-56f7a54c2dda"
      },
      "source": [
        "lista2"
      ],
      "execution_count": null,
      "outputs": [
        {
          "output_type": "execute_result",
          "data": {
            "text/plain": [
              "[1, 2, 3, 4]"
            ]
          },
          "metadata": {
            "tags": []
          },
          "execution_count": 64
        }
      ]
    },
    {
      "cell_type": "code",
      "metadata": {
        "id": "kKxNz1_U-2kn",
        "outputId": "2cec294a-4178-4618-dca4-cd3e2956ff05"
      },
      "source": [
        "lista2.pop(2)"
      ],
      "execution_count": null,
      "outputs": [
        {
          "output_type": "execute_result",
          "data": {
            "text/plain": [
              "3"
            ]
          },
          "metadata": {
            "tags": []
          },
          "execution_count": 65
        }
      ]
    },
    {
      "cell_type": "code",
      "metadata": {
        "id": "ijk0PRJb-2kn",
        "outputId": "b509ce02-65b7-4ded-f8a2-b674bca0fadd"
      },
      "source": [
        "lista2"
      ],
      "execution_count": null,
      "outputs": [
        {
          "output_type": "execute_result",
          "data": {
            "text/plain": [
              "[1, 2, 4]"
            ]
          },
          "metadata": {
            "tags": []
          },
          "execution_count": 66
        }
      ]
    },
    {
      "cell_type": "code",
      "metadata": {
        "id": "2w6uqdvS-2kn",
        "outputId": "963f829b-9dfd-4c9f-d135-e008650c25ab"
      },
      "source": [
        "lista1"
      ],
      "execution_count": null,
      "outputs": [
        {
          "output_type": "execute_result",
          "data": {
            "text/plain": [
              "[1, 2, 3, 4]"
            ]
          },
          "metadata": {
            "tags": []
          },
          "execution_count": 67
        }
      ]
    },
    {
      "cell_type": "code",
      "metadata": {
        "id": "ZSY92033-2ko"
      },
      "source": [
        ""
      ],
      "execution_count": null,
      "outputs": []
    }
  ]
}